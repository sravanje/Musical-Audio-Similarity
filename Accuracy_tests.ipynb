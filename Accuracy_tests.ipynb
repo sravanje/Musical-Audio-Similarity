{
 "cells": [
  {
   "cell_type": "markdown",
   "id": "d079a0f9",
   "metadata": {},
   "source": [
    "### temporary testing for accuracy"
   ]
  },
  {
   "cell_type": "code",
   "execution_count": null,
   "id": "30e3a48e",
   "metadata": {},
   "outputs": [],
   "source": [
    "#  imports\n",
    "import numpy as np\n",
    "import librosa\n",
    "import numpy as np\n",
    "from scipy.spatial.distance import euclidean\n",
    "import matplotlib.pyplot as plt\n",
    "\n",
    "from chromagram import fetch_chromagram\n",
    "from DTW import dtw_table, dtw, display_dtw_path, similarity_score"
   ]
  },
  {
   "cell_type": "markdown",
   "id": "8d8a87f3",
   "metadata": {},
   "source": [
    "#### generate chromagrams for train files from dataset"
   ]
  },
  {
   "cell_type": "code",
   "execution_count": null,
   "id": "070c4347",
   "metadata": {},
   "outputs": [],
   "source": [
    "# fetch file pairs\n",
    "\n",
    "\n",
    "gen_path = \"../dataset3/archive/musicnet/custom_generated_musicnet/\"\n",
    "og_path = \"../dataset3/archive/musicnet/musicnet/train_data/\"\n",
    "\n",
    "# where train files chromagrams will be saved, to be loaded and used during inference\n",
    "chroma_path = \"../chromagrams/30sec_sr10000_numpy_files/\"\n",
    "\n",
    "file_pairs = []\n",
    "no_pairs = []\n",
    "multiple_pairs = []\n",
    "\n",
    "og_files = os.listdir(og_path)\n",
    "\n",
    "\n",
    "for file in tqdm(os.listdir(gen_path)):\n",
    "    file_num = file.split('_')[0]\n",
    "    topair = [f for f in og_files if file_num in f]\n",
    "    if len(topair)==0:\n",
    "        no_pairs.append(file)\n",
    "        continue\n",
    "    elif len(topair)>1:\n",
    "        multiple_pairs.append([file,topair])\n",
    "        continue\n",
    "    topair = topair[0]\n",
    "    file_pairs.append([topair, file])\n",
    "file_pairs = np.array(file_pairs)"
   ]
  },
  {
   "cell_type": "code",
   "execution_count": null,
   "id": "ed196e24",
   "metadata": {},
   "outputs": [],
   "source": [
    "# save chromagrams\n",
    "\n",
    "og_files = file_pairs[:,0]\n",
    "for ogf in tqdm(og_files):\n",
    "    # saving 30 seconds chromagrams of all train files with sampling rate 10k\n",
    "    # change accordingly\n",
    "    chromagram = fetch_chromagram(og_path+ogf, sr=10000, end_time=30)\n",
    "    np.save(chroma_path+ogf[:-3]+'npy', chromagram)"
   ]
  },
  {
   "cell_type": "code",
   "execution_count": null,
   "id": "f8f356c7",
   "metadata": {},
   "outputs": [],
   "source": []
  },
  {
   "cell_type": "markdown",
   "id": "bfcaefb4",
   "metadata": {},
   "source": [
    "#### inference (computing closest matches for test files)"
   ]
  },
  {
   "cell_type": "code",
   "execution_count": null,
   "id": "32652476",
   "metadata": {},
   "outputs": [],
   "source": [
    "def method1(chromagram1, chromagram2):\n",
    "    # dtw from MIR with cost without normalization\n",
    "    D = dtw_table(chromagram1.T, chromagram2.T)\n",
    "    dtw_path = dtw(chromagram1.T, chromagram1.T, D)\n",
    "\n",
    "    score = similarity_score(D, dtw_path)\n",
    "    \n",
    "    return score\n",
    "\n",
    "def method2(chromagram1, chromagram2):\n",
    "    # librosa dtw with normalized similarity\n",
    "    return 0"
   ]
  },
  {
   "cell_type": "code",
   "execution_count": null,
   "id": "61f7cf45",
   "metadata": {},
   "outputs": [],
   "source": [
    "chroma_files = os.listdir(chroma_path)\n",
    "\n",
    "# each element in final_maps contains [original file, generated midi/test file, closest match file]\n",
    "final_maps = []\n",
    "\n",
    "for og_file, gen_file in tqdm(file_pairs):\n",
    "    # load test file chromagram\n",
    "    chromagram1 = fetch_chromagram(gen_path+gen_file, sr=10000, end_time=30)\n",
    "    scores = []\n",
    "    for chroma_file in tqdm(chroma_files):\n",
    "        # fetch each train file chromagram\n",
    "        chromagram2 = np.load(chroma_path+chroma_file)\n",
    "        \n",
    "        score = method1(chromagram1, chromagram2)\n",
    "        \n",
    "        scores.append(score)\n",
    "        \n",
    "        \n",
    "    matched_file = chroma_files[np.argmin(scores)]    # argmin in case of cost, argmax in case of similarity\n",
    "    \n",
    "    # each element in final_maps contains [original file, generated midi/test file, closest match file]\n",
    "    final_maps.append([og_file, gen_file, matched_file])\n",
    "    \n",
    "    \n",
    "    break    # test for one test file print final_maps to check, remove break later"
   ]
  },
  {
   "cell_type": "markdown",
   "id": "01298ad6",
   "metadata": {},
   "source": [
    "##### accuracy"
   ]
  },
  {
   "cell_type": "code",
   "execution_count": null,
   "id": "1980d164",
   "metadata": {},
   "outputs": [],
   "source": [
    "accuracy = 0\n",
    "for i in final_maps:\n",
    "    ground_truth = i[0][:-3]\n",
    "    closest_match = i[2][:-3]\n",
    "    accuracy += ground_truth==closest_match\n",
    "accuracy = accuracy/len(final_maps)\n",
    "accuracy*100"
   ]
  },
  {
   "cell_type": "code",
   "execution_count": null,
   "id": "de9e934c",
   "metadata": {},
   "outputs": [],
   "source": [
    "accuracy"
   ]
  }
 ],
 "metadata": {
  "kernelspec": {
   "display_name": "Python 3 (ipykernel)",
   "language": "python",
   "name": "python3"
  },
  "language_info": {
   "codemirror_mode": {
    "name": "ipython",
    "version": 3
   },
   "file_extension": ".py",
   "mimetype": "text/x-python",
   "name": "python",
   "nbconvert_exporter": "python",
   "pygments_lexer": "ipython3",
   "version": "3.9.13"
  }
 },
 "nbformat": 4,
 "nbformat_minor": 5
}
