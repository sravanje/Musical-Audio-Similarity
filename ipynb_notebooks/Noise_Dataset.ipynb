{
 "cells": [
  {
   "cell_type": "markdown",
   "id": "d079a0f9",
   "metadata": {},
   "source": [
    "## Affect on accuracy with noise"
   ]
  },
  {
   "cell_type": "code",
   "execution_count": 4,
   "id": "30e3a48e",
   "metadata": {},
   "outputs": [],
   "source": [
    "#  imports\n",
    "import os\n",
    "import numpy as np\n",
    "import librosa\n",
    "import numpy as np\n",
    "from scipy.spatial.distance import euclidean\n",
    "import matplotlib.pyplot as plt\n",
    "from tqdm import tqdm\n",
    "\n",
    "import sys\n",
    "sys.path.append('../')\n",
    "\n",
    "from chromagram import fetch_chromagram\n",
    "from DTW import dtw_table, dtw, display_dtw_path, similarity_score"
   ]
  },
  {
   "cell_type": "code",
   "execution_count": 5,
   "id": "f797a0dc",
   "metadata": {},
   "outputs": [],
   "source": [
    "import warnings\n",
    "warnings.filterwarnings('ignore')"
   ]
  },
  {
   "cell_type": "markdown",
   "id": "8d8a87f3",
   "metadata": {},
   "source": [
    "### add noise to audio file tests"
   ]
  },
  {
   "cell_type": "code",
   "execution_count": 6,
   "id": "149d7329",
   "metadata": {},
   "outputs": [],
   "source": [
    "import os\n",
    "from tqdm import tqdm\n",
    "\n",
    "import numpy as np\n",
    "import librosa\n",
    "\n",
    "import soundfile as sf"
   ]
  },
  {
   "cell_type": "code",
   "execution_count": 7,
   "id": "e0a0cbb4",
   "metadata": {},
   "outputs": [],
   "source": [
    "def add_noise(file_path, save_folder=None, SNR=15, verbose=False):\n",
    "    file_name = os.path.basename(file_path)\n",
    "    save_folder = save_folder if save_folder is not None else os.path.dirname(file_path)+'/'\n",
    "    save_name = file_name[:-4]+\"_SNR_\"+str(SNR)+file_name[-4:]\n",
    "    \n",
    "    signal, sr = librosa.load(file_path, sr=None)\n",
    "    \n",
    "    RMS_signal = np.sqrt(np.mean(signal**2))\n",
    "    RMS_noise = np.sqrt(RMS_signal**2 / (10**(SNR/10)))\n",
    "    \n",
    "    noise = np.random.normal(0, RMS_noise, signal.shape[0])\n",
    "    \n",
    "    noisy_signal = signal + noise\n",
    "    sf.write(save_folder+save_name, noisy_signal, sr)\n",
    "    if verbose:\n",
    "        print(\"saved to: \", save_folder+save_name)"
   ]
  },
  {
   "cell_type": "code",
   "execution_count": 3,
   "id": "7ac3851d",
   "metadata": {},
   "outputs": [
    {
     "name": "stdout",
     "output_type": "stream",
     "text": [
      "saved to:  D:/files/UCM_acad/SP IOT/project/tests/1727_SNR_15.wav\n"
     ]
    }
   ],
   "source": [
    "path = \"D:/files/UCM_acad/SP IOT/project/tests/\"\n",
    "file_path = path+ \"1727.wav\"\n",
    "add_noise(file_path, verbose=True)"
   ]
  },
  {
   "cell_type": "code",
   "execution_count": 26,
   "id": "3028ab83",
   "metadata": {},
   "outputs": [
    {
     "name": "stderr",
     "output_type": "stream",
     "text": [
      "100%|████████████████████████████████████████████████████████████████████████████████| 330/330 [05:02<00:00,  1.09it/s]\n"
     ]
    }
   ],
   "source": [
    "sr = None\n",
    "SNR = 1\n",
    "\n",
    "gen_path = \"../../dataset3/archive/musicnet/custom_generated_musicnet/\"\n",
    "noise_gen_path = \"../../dataset3/archive/musicnet/custom_generated_musicnet_SNR_{}/\".format(SNR)\n",
    "if not os.path.exists(noise_gen_path):\n",
    "    os.mkdir(noise_gen_path)\n",
    "og_path = \"../../dataset3/archive/musicnet/musicnet/train_data/\"\n",
    "\n",
    "for file in tqdm(os.listdir(gen_path)):\n",
    "    add_noise(file_path=gen_path+file, save_folder=noise_gen_path, SNR=SNR)"
   ]
  },
  {
   "cell_type": "code",
   "execution_count": null,
   "id": "d098b70d",
   "metadata": {},
   "outputs": [],
   "source": []
  },
  {
   "cell_type": "markdown",
   "id": "385960cf",
   "metadata": {},
   "source": [
    "### test accuracy"
   ]
  },
  {
   "cell_type": "code",
   "execution_count": 27,
   "id": "d0f0427d",
   "metadata": {},
   "outputs": [],
   "source": [
    "#  imports\n",
    "import os\n",
    "import numpy as np\n",
    "import librosa\n",
    "import numpy as np\n",
    "from scipy.spatial.distance import euclidean\n",
    "import matplotlib.pyplot as plt\n",
    "from tqdm import tqdm\n",
    "\n",
    "import sys\n",
    "sys.path.append('../')\n",
    "\n",
    "from chromagram import fetch_chromagram\n",
    "from DTW import dtw_table, dtw, display_dtw_path, similarity_score"
   ]
  },
  {
   "cell_type": "code",
   "execution_count": 28,
   "id": "070c4347",
   "metadata": {},
   "outputs": [
    {
     "name": "stderr",
     "output_type": "stream",
     "text": [
      "100%|█████████████████████████████████████████████████████████████████████████████| 330/330 [00:00<00:00, 82496.14it/s]\n"
     ]
    }
   ],
   "source": [
    "sr = 5000\n",
    "gen_path = noise_gen_path\n",
    "og_path = \"../../dataset3/archive/musicnet/musicnet/train_data/\"\n",
    "\n",
    "# where train files chromagrams will be saved, to be loaded and used during inference\n",
    "chroma_path = \"../../chromagrams/30sec_sr{0}_numpy_files/\".format(sr)\n",
    "if not os.path.exists(chroma_path):\n",
    "    os.mkdir(chroma_path)\n",
    "\n",
    "file_pairs = []\n",
    "no_pairs = []\n",
    "multiple_pairs = []\n",
    "\n",
    "og_files = os.listdir(og_path)\n",
    "\n",
    "\n",
    "for file in tqdm(os.listdir(gen_path)):\n",
    "    file_num = file.split('_')[0]\n",
    "    topair = [f for f in og_files if file_num in f]\n",
    "    if len(topair)==0:\n",
    "        no_pairs.append(file)\n",
    "        continue\n",
    "    elif len(topair)>1:\n",
    "        multiple_pairs.append([file,topair])\n",
    "        continue\n",
    "    topair = topair[0]\n",
    "    file_pairs.append([topair, file])\n",
    "file_pairs = np.array(file_pairs)"
   ]
  },
  {
   "cell_type": "code",
   "execution_count": 29,
   "id": "8dc59503",
   "metadata": {},
   "outputs": [
    {
     "data": {
      "text/plain": [
       "'../../dataset3/archive/musicnet/custom_generated_musicnet_SNR_1/'"
      ]
     },
     "execution_count": 29,
     "metadata": {},
     "output_type": "execute_result"
    }
   ],
   "source": [
    "noise_gen_path"
   ]
  },
  {
   "cell_type": "code",
   "execution_count": 30,
   "id": "6c330c6f",
   "metadata": {},
   "outputs": [
    {
     "data": {
      "text/plain": [
       "'../../chromagrams/30sec_sr5000_numpy_files/'"
      ]
     },
     "execution_count": 30,
     "metadata": {},
     "output_type": "execute_result"
    }
   ],
   "source": [
    "chroma_path"
   ]
  },
  {
   "cell_type": "code",
   "execution_count": null,
   "id": "fc8f0b62",
   "metadata": {},
   "outputs": [],
   "source": []
  },
  {
   "cell_type": "code",
   "execution_count": 31,
   "id": "ed196e24",
   "metadata": {
    "scrolled": true
   },
   "outputs": [
    {
     "name": "stderr",
     "output_type": "stream",
     "text": [
      "100%|█████████████████████████████████████████████████████████████████████████████| 320/320 [00:00<00:00, 29057.75it/s]\n"
     ]
    }
   ],
   "source": [
    "# save chromagrams\n",
    "\n",
    "og_files = file_pairs[:,0]\n",
    "for ogf in tqdm(og_files):\n",
    "    if os.path.exists(chroma_path+ogf[:-3]+'npy'):\n",
    "        continue\n",
    "    # saving 30 seconds chromagrams of all train files with sampling rate 10k\n",
    "    # change accordingly\n",
    "    chromagram = fetch_chromagram(og_path+ogf, sr=sr, end_time=30)\n",
    "    np.save(chroma_path+ogf[:-3]+'npy', chromagram)"
   ]
  },
  {
   "cell_type": "code",
   "execution_count": null,
   "id": "f8f356c7",
   "metadata": {},
   "outputs": [],
   "source": []
  },
  {
   "cell_type": "markdown",
   "id": "bfcaefb4",
   "metadata": {},
   "source": [
    "#### inference (computing closest matches for test files)"
   ]
  },
  {
   "cell_type": "code",
   "execution_count": 32,
   "id": "32652476",
   "metadata": {},
   "outputs": [],
   "source": [
    "def method1(chromagram1, chromagram2):\n",
    "    # dtw from MIR with cost without normalization\n",
    "    D = dtw_table(chromagram1.T, chromagram2.T)\n",
    "    dtw_path = dtw(chromagram1.T, chromagram1.T, D)\n",
    "\n",
    "    score = similarity_score(D, dtw_path)\n",
    "    \n",
    "    return score\n",
    "\n",
    "def method2(chromagram1, chromagram2):\n",
    "    # librosa dtw with normalized similarity\n",
    "    D, wp = librosa.sequence.dtw(X=chromagram1, Y=chromagram2, metric='euclidean')\n",
    "\n",
    "    s = 0\n",
    "    min_D = D.min()\n",
    "    max_D = D.max()\n",
    "\n",
    "    for i in range(len(wp)):\n",
    "        x, y = wp[i]\n",
    "        z = D[x, y]\n",
    "        s += z\n",
    "\n",
    "    avg_cost = s / len(wp)\n",
    "    similarity = abs(1 - ((avg_cost - min_D) / (max_D - min_D)))\n",
    "\n",
    "    #print(avg_cost)\n",
    "    #print(similarity)\n",
    "\n",
    "    return avg_cost"
   ]
  },
  {
   "cell_type": "code",
   "execution_count": 33,
   "id": "61f7cf45",
   "metadata": {},
   "outputs": [
    {
     "name": "stderr",
     "output_type": "stream",
     "text": [
      "100%|████████████████████████████████████████████████████████████████████████████████| 320/320 [07:30<00:00,  1.41s/it]\n"
     ]
    }
   ],
   "source": [
    "chroma_files = os.listdir(chroma_path)\n",
    "\n",
    "# each element in final_maps contains [original file, generated midi/test file, closest match file]\n",
    "final_maps = []\n",
    "all_scores = []\n",
    "\n",
    "for og_file, gen_file in tqdm(file_pairs):\n",
    "    # load test file chromagram\n",
    "    chromagram1 = fetch_chromagram(gen_path+gen_file, sr=sr, end_time=30)\n",
    "    scores = []\n",
    "    for chroma_file in chroma_files:\n",
    "        # fetch each train file chromagram\n",
    "        chromagram2 = np.load(chroma_path+chroma_file)\n",
    "        \n",
    "#         score = method1(chromagram1, chromagram2)\n",
    "        score = method2(chromagram1, chromagram2)\n",
    "        \n",
    "        scores.append(score)\n",
    "        \n",
    "        \n",
    "    matched_file = chroma_files[np.argmin(scores)]    # argmin in case of cost, argmax in case of similarity\n",
    "#     matched_file = chroma_files[np.argmax(scores)]    # argmin in case of cost, argmax in case of similarity\n",
    "    \n",
    "    # each element in final_maps contains [original file, generated midi/test file, closest match file]\n",
    "    final_maps.append([og_file, gen_file, matched_file])\n",
    "    \n",
    "    all_scores.append(scores)\n",
    "    \n",
    "    \n",
    "#     break    # test for one test file print final_maps to check, remove break later"
   ]
  },
  {
   "cell_type": "code",
   "execution_count": null,
   "id": "a2f85591",
   "metadata": {},
   "outputs": [],
   "source": []
  },
  {
   "cell_type": "code",
   "execution_count": 34,
   "id": "6370077c",
   "metadata": {},
   "outputs": [],
   "source": [
    "np.save('./all_scores_librosa_sr_{}_SNR_{}.npy'.format(sr, SNR), all_scores)"
   ]
  },
  {
   "cell_type": "code",
   "execution_count": null,
   "id": "2742ea21",
   "metadata": {},
   "outputs": [],
   "source": []
  },
  {
   "cell_type": "markdown",
   "id": "01298ad6",
   "metadata": {},
   "source": [
    "##### accuracy"
   ]
  },
  {
   "cell_type": "code",
   "execution_count": 35,
   "id": "1980d164",
   "metadata": {},
   "outputs": [
    {
     "data": {
      "text/plain": [
       "63.125"
      ]
     },
     "execution_count": 35,
     "metadata": {},
     "output_type": "execute_result"
    }
   ],
   "source": [
    "accuracy = 0\n",
    "for i in final_maps:\n",
    "    ground_truth = i[0][:-3]\n",
    "    closest_match = i[2][:-3]\n",
    "    accuracy += ground_truth==closest_match\n",
    "accuracy = accuracy/len(final_maps)\n",
    "accuracy*100"
   ]
  },
  {
   "cell_type": "code",
   "execution_count": 12,
   "id": "d034885a",
   "metadata": {},
   "outputs": [
    {
     "data": {
      "text/plain": [
       "[['1727.wav', '1727_SNR_15.wav', '1727.npy'],\n",
       " ['1728.wav', '1728_SNR_15.wav', '1728.npy'],\n",
       " ['1729.wav', '1729_SNR_15.wav', '1729.npy'],\n",
       " ['1730.wav', '1730_SNR_15.wav', '1730.npy'],\n",
       " ['1733.wav', '1733_SNR_15.wav', '1733.npy'],\n",
       " ['1734.wav', '1734_SNR_15.wav', '1734.npy'],\n",
       " ['1735.wav', '1735_SNR_15.wav', '1735.npy'],\n",
       " ['1739.wav', '1739_SNR_15.wav', '1739.npy'],\n",
       " ['1742.wav', '1742_SNR_15.wav', '1742.npy'],\n",
       " ['1749.wav', '1749_SNR_15.wav', '1749.npy'],\n",
       " ['1750.wav', '1750_SNR_15.wav', '1750.npy'],\n",
       " ['1751.wav', '1751_SNR_15.wav', '1751.npy'],\n",
       " ['1752.wav', '1752_SNR_15.wav', '1752.npy'],\n",
       " ['1755.wav', '1755_SNR_15.wav', '1755.npy'],\n",
       " ['1756.wav', '1756_SNR_15.wav', '1756.npy'],\n",
       " ['1757.wav', '1757_SNR_15.wav', '1757.npy'],\n",
       " ['1758.wav', '1758_SNR_15.wav', '1758.npy'],\n",
       " ['1760.wav', '1760_SNR_15.wav', '1760.npy'],\n",
       " ['1763.wav', '1763_SNR_15.wav', '1763.npy'],\n",
       " ['1764.wav', '1764_SNR_15.wav', '1764.npy'],\n",
       " ['1765.wav', '1765_SNR_15.wav', '1765.npy'],\n",
       " ['1766.wav', '1766_SNR_15.wav', '1766.npy'],\n",
       " ['1768.wav', '1768_SNR_15.wav', '1768.npy'],\n",
       " ['1771.wav', '1771_SNR_15.wav', '1771.npy'],\n",
       " ['1772.wav', '1772_SNR_15.wav', '1772.npy'],\n",
       " ['1773.wav', '1773_SNR_15.wav', '1773.npy'],\n",
       " ['1775.wav', '1775_SNR_15.wav', '1775.npy'],\n",
       " ['1776.wav', '1776_SNR_15.wav', '1776.npy'],\n",
       " ['1777.wav', '1777_SNR_15.wav', '1777.npy'],\n",
       " ['1788.wav', '1788_SNR_15.wav', '1788.npy'],\n",
       " ['1789.wav', '1789_SNR_15.wav', '1789.npy'],\n",
       " ['1790.wav', '1790_SNR_15.wav', '1790.npy'],\n",
       " ['1791.wav', '1791_SNR_15.wav', '1791.npy'],\n",
       " ['1792.wav', '1792_SNR_15.wav', '1788.npy'],\n",
       " ['1793.wav', '1793_SNR_15.wav', '1793.npy'],\n",
       " ['1805.wav', '1805_SNR_15.wav', '1805.npy'],\n",
       " ['1807.wav', '1807_SNR_15.wav', '1807.npy'],\n",
       " ['1811.wav', '1811_SNR_15.wav', '1811.npy'],\n",
       " ['1812.wav', '1812_SNR_15.wav', '1812.npy'],\n",
       " ['1813.wav', '1813_SNR_15.wav', '1813.npy'],\n",
       " ['1817.wav', '1817_SNR_15.wav', '1817.npy'],\n",
       " ['1818.wav', '1818_SNR_15.wav', '1818.npy'],\n",
       " ['1822.wav', '1822_SNR_15.wav', '1822.npy'],\n",
       " ['1824.wav', '1824_SNR_15.wav', '1824.npy'],\n",
       " ['1828.wav', '1828_SNR_15.wav', '1828.npy'],\n",
       " ['1829.wav', '1829_SNR_15.wav', '1829.npy'],\n",
       " ['1835.wav', '1835_SNR_15.wav', '2194.npy'],\n",
       " ['1859.wav', '1859_SNR_15.wav', '1859.npy'],\n",
       " ['1872.wav', '1872_SNR_15.wav', '1872.npy'],\n",
       " ['1873.wav', '1873_SNR_15.wav', '1873.npy'],\n",
       " ['1876.wav', '1876_SNR_15.wav', '1876.npy'],\n",
       " ['1893.wav', '1893_SNR_15.wav', '1893.npy'],\n",
       " ['1916.wav', '1916_SNR_15.wav', '1916.npy'],\n",
       " ['1918.wav', '1918_SNR_15.wav', '1918.npy'],\n",
       " ['1919.wav', '1919_SNR_15.wav', '1919.npy'],\n",
       " ['1922.wav', '1922_SNR_15.wav', '1922.npy'],\n",
       " ['1923.wav', '1923_SNR_15.wav', '1923.npy'],\n",
       " ['1931.wav', '1931_SNR_15.wav', '1931.npy'],\n",
       " ['1932.wav', '1932_SNR_15.wav', '1932.npy'],\n",
       " ['1933.wav', '1933_SNR_15.wav', '1933.npy'],\n",
       " ['2075.wav', '2075_SNR_15.wav', '2075.npy'],\n",
       " ['2076.wav', '2076_SNR_15.wav', '2076.npy'],\n",
       " ['2077.wav', '2077_SNR_15.wav', '2077.npy'],\n",
       " ['2078.wav', '2078_SNR_15.wav', '2078.npy'],\n",
       " ['2079.wav', '2079_SNR_15.wav', '2079.npy'],\n",
       " ['2080.wav', '2080_SNR_15.wav', '2080.npy'],\n",
       " ['2081.wav', '2081_SNR_15.wav', '2081.npy'],\n",
       " ['2082.wav', '2082_SNR_15.wav', '2082.npy'],\n",
       " ['2083.wav', '2083_SNR_15.wav', '2083.npy'],\n",
       " ['2104.wav', '2104_SNR_15.wav', '2104.npy'],\n",
       " ['2105.wav', '2105_SNR_15.wav', '2105.npy'],\n",
       " ['2112.wav', '2112_SNR_15.wav', '2112.npy'],\n",
       " ['2113.wav', '2113_SNR_15.wav', '2113.npy'],\n",
       " ['2114.wav', '2114_SNR_15.wav', '2114.npy'],\n",
       " ['2116.wav', '2116_SNR_15.wav', '2116.npy'],\n",
       " ['2117.wav', '2117_SNR_15.wav', '2117.npy'],\n",
       " ['2118.wav', '2118_SNR_15.wav', '2118.npy'],\n",
       " ['2119.wav', '2119_SNR_15.wav', '2119.npy'],\n",
       " ['2127.wav', '2127_SNR_15.wav', '2127.npy'],\n",
       " ['2131.wav', '2131_SNR_15.wav', '2131.npy'],\n",
       " ['2138.wav', '2138_SNR_15.wav', '2138.npy'],\n",
       " ['2140.wav', '2140_SNR_15.wav', '2140.npy'],\n",
       " ['2147.wav', '2147_SNR_15.wav', '2147.npy'],\n",
       " ['2148.wav', '2148_SNR_15.wav', '2148.npy'],\n",
       " ['2149.wav', '2149_SNR_15.wav', '2149.npy'],\n",
       " ['2150.wav', '2150_SNR_15.wav', '2150.npy'],\n",
       " ['2151.wav', '2151_SNR_15.wav', '2151.npy'],\n",
       " ['2154.wav', '2154_SNR_15.wav', '2154.npy'],\n",
       " ['2155.wav', '2155_SNR_15.wav', '2155.npy'],\n",
       " ['2156.wav', '2156_SNR_15.wav', '2156.npy'],\n",
       " ['2157.wav', '2157_SNR_15.wav', '2157.npy'],\n",
       " ['2158.wav', '2158_SNR_15.wav', '2158.npy'],\n",
       " ['2159.wav', '2159_SNR_15.wav', '2159.npy'],\n",
       " ['2160.wav', '2160_SNR_15.wav', '2160.npy'],\n",
       " ['2161.wav', '2161_SNR_15.wav', '2161.npy'],\n",
       " ['2166.wav', '2166_SNR_15.wav', '2166.npy'],\n",
       " ['2167.wav', '2167_SNR_15.wav', '2167.npy'],\n",
       " ['2168.wav', '2168_SNR_15.wav', '2168.npy'],\n",
       " ['2169.wav', '2169_SNR_15.wav', '2169.npy'],\n",
       " ['2177.wav', '2177_SNR_15.wav', '2177.npy'],\n",
       " ['2178.wav', '2178_SNR_15.wav', '2178.npy'],\n",
       " ['2179.wav', '2179_SNR_15.wav', '2179.npy'],\n",
       " ['2180.wav', '2180_SNR_15.wav', '2180.npy'],\n",
       " ['2186.wav', '2186_SNR_15.wav', '2186.npy'],\n",
       " ['2194.wav', '2194_SNR_15.wav', '2194.npy'],\n",
       " ['2195.wav', '2195_SNR_15.wav', '2195.npy'],\n",
       " ['2196.wav', '2196_SNR_15.wav', '2196.npy'],\n",
       " ['2198.wav', '2198_SNR_15.wav', '2198.npy'],\n",
       " ['2200.wav', '2200_SNR_15.wav', '2200.npy'],\n",
       " ['2201.wav', '2201_SNR_15.wav', '2201.npy'],\n",
       " ['2202.wav', '2202_SNR_15.wav', '2202.npy'],\n",
       " ['2203.wav', '2203_SNR_15.wav', '2203.npy'],\n",
       " ['2204.wav', '2204_SNR_15.wav', '2204.npy'],\n",
       " ['2207.wav', '2207_SNR_15.wav', '2207.npy'],\n",
       " ['2208.wav', '2208_SNR_15.wav', '2208.npy'],\n",
       " ['2209.wav', '2209_SNR_15.wav', '2209.npy'],\n",
       " ['2210.wav', '2210_SNR_15.wav', '2210.npy'],\n",
       " ['2211.wav', '2211_SNR_15.wav', '2211.npy'],\n",
       " ['2212.wav', '2212_SNR_15.wav', '2212.npy'],\n",
       " ['2213.wav', '2213_SNR_15.wav', '2213.npy'],\n",
       " ['2214.wav', '2214_SNR_15.wav', '2214.npy'],\n",
       " ['2215.wav', '2215_SNR_15.wav', '2215.npy'],\n",
       " ['2217.wav', '2217_SNR_15.wav', '2217.npy'],\n",
       " ['2218.wav', '2218_SNR_15.wav', '2218.npy'],\n",
       " ['2219.wav', '2219_SNR_15.wav', '2219.npy'],\n",
       " ['2220.wav', '2220_SNR_15.wav', '2220.npy'],\n",
       " ['2221.wav', '2221_SNR_15.wav', '2221.npy'],\n",
       " ['2222.wav', '2222_SNR_15.wav', '2222.npy'],\n",
       " ['2224.wav', '2224_SNR_15.wav', '2224.npy'],\n",
       " ['2225.wav', '2225_SNR_15.wav', '2225.npy'],\n",
       " ['2227.wav', '2227_SNR_15.wav', '2227.npy'],\n",
       " ['2228.wav', '2228_SNR_15.wav', '2228.npy'],\n",
       " ['2229.wav', '2229_SNR_15.wav', '2229.npy'],\n",
       " ['2230.wav', '2230_SNR_15.wav', '2230.npy'],\n",
       " ['2231.wav', '2231_SNR_15.wav', '2231.npy'],\n",
       " ['2232.wav', '2232_SNR_15.wav', '2232.npy'],\n",
       " ['2234.wav', '2234_SNR_15.wav', '2234.npy'],\n",
       " ['2237.wav', '2237_SNR_15.wav', '2237.npy'],\n",
       " ['2238.wav', '2238_SNR_15.wav', '2238.npy'],\n",
       " ['2239.wav', '2239_SNR_15.wav', '2239.npy'],\n",
       " ['2240.wav', '2240_SNR_15.wav', '2240.npy'],\n",
       " ['2241.wav', '2241_SNR_15.wav', '2241.npy'],\n",
       " ['2242.wav', '2242_SNR_15.wav', '2242.npy'],\n",
       " ['2243.wav', '2243_SNR_15.wav', '2243.npy'],\n",
       " ['2244.wav', '2244_SNR_15.wav', '2244.npy'],\n",
       " ['2247.wav', '2247_SNR_15.wav', '2247.npy'],\n",
       " ['2248.wav', '2248_SNR_15.wav', '2248.npy'],\n",
       " ['2282.wav', '2282_SNR_15.wav', '2282.npy'],\n",
       " ['2283.wav', '2283_SNR_15.wav', '2283.npy'],\n",
       " ['2284.wav', '2284_SNR_15.wav', '2284.npy'],\n",
       " ['2285.wav', '2285_SNR_15.wav', '2285.npy'],\n",
       " ['2288.wav', '2288_SNR_15.wav', '2288.npy'],\n",
       " ['2289.wav', '2289_SNR_15.wav', '2289.npy'],\n",
       " ['2292.wav', '2292_SNR_15.wav', '2292.npy'],\n",
       " ['2293.wav', '2293_SNR_15.wav', '2293.npy'],\n",
       " ['2294.wav', '2294_SNR_15.wav', '2294.npy'],\n",
       " ['2295.wav', '2295_SNR_15.wav', '2295.npy'],\n",
       " ['2296.wav', '2296_SNR_15.wav', '2296.npy'],\n",
       " ['2297.wav', '2297_SNR_15.wav', '2297.npy'],\n",
       " ['2300.wav', '2300_SNR_15.wav', '2300.npy'],\n",
       " ['2302.wav', '2302_SNR_15.wav', '2302.npy'],\n",
       " ['2304.wav', '2304_SNR_15.wav', '2304.npy'],\n",
       " ['2305.wav', '2305_SNR_15.wav', '2305.npy'],\n",
       " ['2307.wav', '2307_SNR_15.wav', '2307.npy'],\n",
       " ['2308.wav', '2308_SNR_15.wav', '2308.npy'],\n",
       " ['2310.wav', '2310_SNR_15.wav', '2310.npy'],\n",
       " ['2313.wav', '2313_SNR_15.wav', '2313.npy'],\n",
       " ['2314.wav', '2314_SNR_15.wav', '2314.npy'],\n",
       " ['2315.wav', '2315_SNR_15.wav', '2315.npy'],\n",
       " ['2318.wav', '2318_SNR_15.wav', '2318.npy'],\n",
       " ['2319.wav', '2319_SNR_15.wav', '2319.npy'],\n",
       " ['2320.wav', '2320_SNR_15.wav', '2320.npy'],\n",
       " ['2322.wav', '2322_SNR_15.wav', '2322.npy'],\n",
       " ['2325.wav', '2325_SNR_15.wav', '2325.npy'],\n",
       " ['2330.wav', '2330_SNR_15.wav', '2330.npy'],\n",
       " ['2334.wav', '2334_SNR_15.wav', '2334.npy'],\n",
       " ['2335.wav', '2335_SNR_15.wav', '2335.npy'],\n",
       " ['2336.wav', '2336_SNR_15.wav', '2336.npy'],\n",
       " ['2341.wav', '2341_SNR_15.wav', '2341.npy'],\n",
       " ['2342.wav', '2342_SNR_15.wav', '2342.npy'],\n",
       " ['2343.wav', '2343_SNR_15.wav', '2343.npy'],\n",
       " ['2345.wav', '2345_SNR_15.wav', '2345.npy'],\n",
       " ['2346.wav', '2346_SNR_15.wav', '2350.npy'],\n",
       " ['2348.wav', '2348_SNR_15.wav', '2348.npy'],\n",
       " ['2350.wav', '2350_SNR_15.wav', '2350.npy'],\n",
       " ['2357.wav', '2357_SNR_15.wav', '2357.npy'],\n",
       " ['2358.wav', '2358_SNR_15.wav', '2358.npy'],\n",
       " ['2359.wav', '2359_SNR_15.wav', '2359.npy'],\n",
       " ['2364.wav', '2364_SNR_15.wav', '2364.npy'],\n",
       " ['2365.wav', '2365_SNR_15.wav', '2365.npy'],\n",
       " ['2366.wav', '2366_SNR_15.wav', '2366.npy'],\n",
       " ['2368.wav', '2368_SNR_15.wav', '2368.npy'],\n",
       " ['2371.wav', '2371_SNR_15.wav', '2371.npy'],\n",
       " ['2372.wav', '2372_SNR_15.wav', '2372.npy'],\n",
       " ['2373.wav', '2373_SNR_15.wav', '2373.npy'],\n",
       " ['2374.wav', '2374_SNR_15.wav', '2374.npy'],\n",
       " ['2376.wav', '2376_SNR_15.wav', '2376.npy'],\n",
       " ['2377.wav', '2377_SNR_15.wav', '2377.npy'],\n",
       " ['2379.wav', '2379_SNR_15.wav', '2379.npy'],\n",
       " ['2381.wav', '2381_SNR_15.wav', '2381.npy'],\n",
       " ['2383.wav', '2383_SNR_15.wav', '2383.npy'],\n",
       " ['2384.wav', '2384_SNR_15.wav', '2384.npy'],\n",
       " ['2388.wav', '2388_SNR_15.wav', '2388.npy'],\n",
       " ['2389.wav', '2389_SNR_15.wav', '2389.npy'],\n",
       " ['2390.wav', '2390_SNR_15.wav', '2390.npy'],\n",
       " ['2391.wav', '2391_SNR_15.wav', '2391.npy'],\n",
       " ['2392.wav', '2392_SNR_15.wav', '2392.npy'],\n",
       " ['2393.wav', '2393_SNR_15.wav', '2393.npy'],\n",
       " ['2397.wav', '2397_SNR_15.wav', '2397.npy'],\n",
       " ['2398.wav', '2398_SNR_15.wav', '2398.npy'],\n",
       " ['2403.wav', '2403_SNR_15.wav', '2403.npy'],\n",
       " ['2404.wav', '2404_SNR_15.wav', '2404.npy'],\n",
       " ['2405.wav', '2405_SNR_15.wav', '2405.npy'],\n",
       " ['2406.wav', '2406_SNR_15.wav', '2406.npy'],\n",
       " ['2410.wav', '2410_SNR_15.wav', '2410.npy'],\n",
       " ['2411.wav', '2411_SNR_15.wav', '2411.npy'],\n",
       " ['2415.wav', '2415_SNR_15.wav', '2415.npy'],\n",
       " ['2417.wav', '2417_SNR_15.wav', '2417.npy'],\n",
       " ['2420.wav', '2420_SNR_15.wav', '2420.npy'],\n",
       " ['2422.wav', '2422_SNR_15.wav', '2422.npy'],\n",
       " ['2423.wav', '2423_SNR_15.wav', '2423.npy'],\n",
       " ['2424.wav', '2424_SNR_15.wav', '2424.npy'],\n",
       " ['2431.wav', '2431_SNR_15.wav', '2431.npy'],\n",
       " ['2432.wav', '2432_SNR_15.wav', '2432.npy'],\n",
       " ['2433.wav', '2433_SNR_15.wav', '2433.npy'],\n",
       " ['2436.wav', '2436_SNR_15.wav', '2436.npy'],\n",
       " ['2441.wav', '2441_SNR_15.wav', '2441.npy'],\n",
       " ['2442.wav', '2442_SNR_15.wav', '2442.npy'],\n",
       " ['2443.wav', '2443_SNR_15.wav', '2443.npy'],\n",
       " ['2444.wav', '2444_SNR_15.wav', '2444.npy'],\n",
       " ['2451.wav', '2451_SNR_15.wav', '2451.npy'],\n",
       " ['2462.wav', '2462_SNR_15.wav', '2462.npy'],\n",
       " ['2463.wav', '2463_SNR_15.wav', '2463.npy'],\n",
       " ['2466.wav', '2466_SNR_15.wav', '2466.npy'],\n",
       " ['2471.wav', '2471_SNR_15.wav', '2471.npy'],\n",
       " ['2472.wav', '2472_SNR_15.wav', '2472.npy'],\n",
       " ['2473.wav', '2473_SNR_15.wav', '2473.npy'],\n",
       " ['2476.wav', '2476_SNR_15.wav', '2476.npy'],\n",
       " ['2477.wav', '2477_SNR_15.wav', '2477.npy'],\n",
       " ['2478.wav', '2478_SNR_15.wav', '2478.npy'],\n",
       " ['2480.wav', '2480_SNR_15.wav', '2480.npy'],\n",
       " ['2481.wav', '2481_SNR_15.wav', '2481.npy'],\n",
       " ['2482.wav', '2482_SNR_15.wav', '2482.npy'],\n",
       " ['2483.wav', '2483_SNR_15.wav', '2483.npy'],\n",
       " ['2486.wav', '2486_SNR_15.wav', '2486.npy'],\n",
       " ['2487.wav', '2487_SNR_15.wav', '2487.npy'],\n",
       " ['2488.wav', '2488_SNR_15.wav', '2488.npy'],\n",
       " ['2490.wav', '2490_SNR_15.wav', '2490.npy'],\n",
       " ['2491.wav', '2491_SNR_15.wav', '2491.npy'],\n",
       " ['2492.wav', '2492_SNR_15.wav', '2492.npy'],\n",
       " ['2494.wav', '2494_SNR_15.wav', '2494.npy'],\n",
       " ['2497.wav', '2497_SNR_15.wav', '2497.npy'],\n",
       " ['2501.wav', '2501_SNR_15.wav', '2501.npy'],\n",
       " ['2502.wav', '2502_SNR_15.wav', '2502.npy'],\n",
       " ['2504.wav', '2504_SNR_15.wav', '2504.npy'],\n",
       " ['2505.wav', '2505_SNR_15.wav', '2505.npy'],\n",
       " ['2506.wav', '2506_SNR_15.wav', '2506.npy'],\n",
       " ['2507.wav', '2507_SNR_15.wav', '2507.npy'],\n",
       " ['2509.wav', '2509_SNR_15.wav', '2509.npy'],\n",
       " ['2510.wav', '2510_SNR_15.wav', '2510.npy'],\n",
       " ['2512.wav', '2512_SNR_15.wav', '2512.npy'],\n",
       " ['2514.wav', '2514_SNR_15.wav', '2514.npy'],\n",
       " ['2516.wav', '2516_SNR_15.wav', '2516.npy'],\n",
       " ['2521.wav', '2521_SNR_15.wav', '2521.npy'],\n",
       " ['2522.wav', '2522_SNR_15.wav', '2522.npy'],\n",
       " ['2523.wav', '2523_SNR_15.wav', '2523.npy'],\n",
       " ['2527.wav', '2527_SNR_15.wav', '2527.npy'],\n",
       " ['2528.wav', '2528_SNR_15.wav', '2528.npy'],\n",
       " ['2529.wav', '2529_SNR_15.wav', '2529.npy'],\n",
       " ['2530.wav', '2530_SNR_15.wav', '2530.npy'],\n",
       " ['2531.wav', '2531_SNR_15.wav', '2531.npy'],\n",
       " ['2532.wav', '2532_SNR_15.wav', '2532.npy'],\n",
       " ['2533.wav', '2533_SNR_15.wav', '2533.npy'],\n",
       " ['2537.wav', '2537_SNR_15.wav', '2537.npy'],\n",
       " ['2538.wav', '2538_SNR_15.wav', '2538.npy'],\n",
       " ['2540.wav', '2540_SNR_15.wav', '2540.npy'],\n",
       " ['2542.wav', '2542_SNR_15.wav', '2542.npy'],\n",
       " ['2550.wav', '2550_SNR_15.wav', '2550.npy'],\n",
       " ['2555.wav', '2555_SNR_15.wav', '2555.npy'],\n",
       " ['2557.wav', '2557_SNR_15.wav', '2557.npy'],\n",
       " ['2560.wav', '2560_SNR_15.wav', '2560.npy'],\n",
       " ['2562.wav', '2562_SNR_15.wav', '2562.npy'],\n",
       " ['2564.wav', '2564_SNR_15.wav', '2564.npy'],\n",
       " ['2566.wav', '2566_SNR_15.wav', '2566.npy'],\n",
       " ['2567.wav', '2567_SNR_15.wav', '2567.npy'],\n",
       " ['2568.wav', '2568_SNR_15.wav', '2568.npy'],\n",
       " ['2570.wav', '2570_SNR_15.wav', '2570.npy'],\n",
       " ['2571.wav', '2571_SNR_15.wav', '2571.npy'],\n",
       " ['2572.wav', '2572_SNR_15.wav', '2572.npy'],\n",
       " ['2573.wav', '2573_SNR_15.wav', '2573.npy'],\n",
       " ['2575.wav', '2575_SNR_15.wav', '2575.npy'],\n",
       " ['2576.wav', '2576_SNR_15.wav', '2576.npy'],\n",
       " ['2581.wav', '2581_SNR_15.wav', '2581.npy'],\n",
       " ['2582.wav', '2582_SNR_15.wav', '2582.npy'],\n",
       " ['2586.wav', '2586_SNR_15.wav', '2586.npy'],\n",
       " ['2588.wav', '2588_SNR_15.wav', '2588.npy'],\n",
       " ['2590.wav', '2590_SNR_15.wav', '2590.npy'],\n",
       " ['2591.wav', '2591_SNR_15.wav', '2591.npy'],\n",
       " ['2593.wav', '2593_SNR_15.wav', '2593.npy'],\n",
       " ['2594.wav', '2594_SNR_15.wav', '2594.npy'],\n",
       " ['2595.wav', '2595_SNR_15.wav', '2595.npy'],\n",
       " ['2596.wav', '2596_SNR_15.wav', '2596.npy'],\n",
       " ['2603.wav', '2603_SNR_15.wav', '2603.npy'],\n",
       " ['2607.wav', '2607_SNR_15.wav', '2607.npy'],\n",
       " ['2608.wav', '2608_SNR_15.wav', '2608.npy'],\n",
       " ['2611.wav', '2611_SNR_15.wav', '2611.npy'],\n",
       " ['2614.wav', '2614_SNR_15.wav', '2614.npy'],\n",
       " ['2618.wav', '2618_SNR_15.wav', '2618.npy'],\n",
       " ['2619.wav', '2619_SNR_15.wav', '2619.npy'],\n",
       " ['2620.wav', '2620_SNR_15.wav', '2620.npy'],\n",
       " ['2621.wav', '2621_SNR_15.wav', '2621.npy'],\n",
       " ['2622.wav', '2622_SNR_15.wav', '2622.npy'],\n",
       " ['2626.wav', '2626_SNR_15.wav', '2626.npy'],\n",
       " ['2627.wav', '2627_SNR_15.wav', '2627.npy'],\n",
       " ['2629.wav', '2629_SNR_15.wav', '2629.npy'],\n",
       " ['2632.wav', '2632_SNR_15.wav', '2632.npy'],\n",
       " ['2633.wav', '2633_SNR_15.wav', '2633.npy'],\n",
       " ['2659.wav', '2659_SNR_15.wav', '2659.npy'],\n",
       " ['2677.wav', '2677_SNR_15.wav', '2677.npy'],\n",
       " ['2678.wav', '2678_SNR_15.wav', '2678.npy']]"
      ]
     },
     "execution_count": 12,
     "metadata": {},
     "output_type": "execute_result"
    }
   ],
   "source": [
    "final_maps"
   ]
  },
  {
   "cell_type": "code",
   "execution_count": 19,
   "id": "f80a7802",
   "metadata": {},
   "outputs": [
    {
     "name": "stdout",
     "output_type": "stream",
     "text": [
      "['1792.wav', '1792_SNR_15.wav', '1788.npy']\n",
      "['1835.wav', '1835_SNR_15.wav', '2194.npy']\n",
      "['2346.wav', '2346_SNR_15.wav', '2350.npy']\n"
     ]
    }
   ],
   "source": [
    "for i in final_maps:\n",
    "    if i[0][:-4]!=i[2][:-4]:\n",
    "        print(i)"
   ]
  },
  {
   "cell_type": "code",
   "execution_count": 37,
   "id": "ab30d3cc",
   "metadata": {},
   "outputs": [
    {
     "data": {
      "text/plain": [
       "[145.0927714846764,\n",
       " 196.57118453360292,\n",
       " 224.29512485418272,\n",
       " 210.24486887394863,\n",
       " 233.96914547497343,\n",
       " 218.0138950944,\n",
       " 223.93974006208774,\n",
       " 180.48684535842457,\n",
       " 228.20060589476768,\n",
       " 170.4615186938307,\n",
       " 211.87944370722377,\n",
       " 213.6854176941326,\n",
       " 175.92041350360492,\n",
       " 200.10129042404776,\n",
       " 187.9391709648033,\n",
       " 223.29770067691553,\n",
       " 232.60384145979728,\n",
       " 222.40068923580696,\n",
       " 183.52925097910875,\n",
       " 196.88869003362467,\n",
       " 176.23238415839688,\n",
       " 177.1932572828912,\n",
       " 226.28365636064828,\n",
       " 218.0452938741005,\n",
       " 229.47502579524433,\n",
       " 220.50448071761733,\n",
       " 219.67422730043057,\n",
       " 224.15486431549027,\n",
       " 225.93020437808715,\n",
       " 197.88308902905746,\n",
       " 158.30166773005064,\n",
       " 174.36697103774853,\n",
       " 183.34702694819822,\n",
       " 211.28130652482974,\n",
       " 229.1415373112295,\n",
       " 199.30047398542803,\n",
       " 201.3513314622511,\n",
       " 185.53173891614193,\n",
       " 202.1930432169105,\n",
       " 206.68829824754306,\n",
       " 197.70594883905633,\n",
       " 198.67260557681587,\n",
       " 193.12585414987967,\n",
       " 189.69660135732818,\n",
       " 221.88417047809276,\n",
       " 224.70600992198507,\n",
       " 172.11047268812013,\n",
       " 209.78782260766698,\n",
       " 209.29449520665563,\n",
       " 193.6600029150306,\n",
       " 192.04113516992516,\n",
       " 209.6047628895096,\n",
       " 205.2099410514325,\n",
       " 184.20309863652713,\n",
       " 182.31142284005495,\n",
       " 194.84232439059573,\n",
       " 211.0722028268928,\n",
       " 182.98828367114,\n",
       " 168.61419148524533,\n",
       " 143.95471365065183,\n",
       " 186.2454511907172,\n",
       " 199.6608515657219,\n",
       " 176.05418077924423,\n",
       " 183.94554299600702,\n",
       " 183.73025646345394,\n",
       " 191.5982921694831,\n",
       " 171.70217695431072,\n",
       " 179.10854643835756,\n",
       " 178.68320938129068,\n",
       " 195.25426691522617,\n",
       " 192.36782365925092,\n",
       " 215.2284309346933,\n",
       " 191.224322463646,\n",
       " 198.22021923277282,\n",
       " 181.93443337992684,\n",
       " 204.84617542546556,\n",
       " 187.1227966335809,\n",
       " 164.3402227850795,\n",
       " 187.1305374255487,\n",
       " 209.6065223713645,\n",
       " 222.63112559879605,\n",
       " 200.98501810376496,\n",
       " 215.63238218826348,\n",
       " 196.9686099180768,\n",
       " 200.444569207141,\n",
       " 199.57824485146588,\n",
       " 214.97235049298249,\n",
       " 162.41755876803725,\n",
       " 163.29383839891037,\n",
       " 157.0393033572386,\n",
       " 160.01124726725706,\n",
       " 159.62827196446364,\n",
       " 195.28086392724416,\n",
       " 194.32875259721428,\n",
       " 195.34560398121582,\n",
       " 190.6373160622844,\n",
       " 204.52919206378866,\n",
       " 226.15430797257713,\n",
       " 218.1148256085673,\n",
       " 171.66206654734938,\n",
       " 180.2436420506216,\n",
       " 181.7335359503433,\n",
       " 193.21557324657346,\n",
       " 223.9733756410909,\n",
       " 209.91530290258711,\n",
       " 188.1879383943405,\n",
       " 193.15085941548034,\n",
       " 185.9605987156639,\n",
       " 192.80888684211217,\n",
       " 192.46440145043766,\n",
       " 198.15631875646514,\n",
       " 201.50150963151248,\n",
       " 196.87020150346885,\n",
       " 209.25917395935656,\n",
       " 189.90280389072518,\n",
       " 205.62389430120587,\n",
       " 206.77389026472719,\n",
       " 196.38881505082418,\n",
       " 173.7642959550125,\n",
       " 198.9412125541943,\n",
       " 188.56613216453553,\n",
       " 179.3903855813232,\n",
       " 190.64115981640225,\n",
       " 206.09167562634983,\n",
       " 213.61494730347187,\n",
       " 203.10431796776342,\n",
       " 194.2240468803109,\n",
       " 212.44662602264268,\n",
       " 204.1745068014595,\n",
       " 192.0348663046165,\n",
       " 184.92006101715427,\n",
       " 190.5543207604121,\n",
       " 181.04193872805322,\n",
       " 183.27010023984369,\n",
       " 181.4066167412343,\n",
       " 171.28415196625912,\n",
       " 171.5605311755701,\n",
       " 204.6102364669287,\n",
       " 203.25774105936162,\n",
       " 191.21461449781646,\n",
       " 203.88208748662905,\n",
       " 204.29645865236725,\n",
       " 215.4446877098984,\n",
       " 182.40549552251082,\n",
       " 195.07407705785747,\n",
       " 211.00372001677917,\n",
       " 198.01054962700363,\n",
       " 239.71891553052106,\n",
       " 229.96028905323197,\n",
       " 233.60121052729045,\n",
       " 233.30080061845607,\n",
       " 199.0359295374433,\n",
       " 209.25298865826014,\n",
       " 209.88642805926477,\n",
       " 212.82126678515613,\n",
       " 214.57930036157444,\n",
       " 205.4007464075598,\n",
       " 218.6531148362031,\n",
       " 192.0112880347965,\n",
       " 208.36187680122816,\n",
       " 207.04622606112662,\n",
       " 183.21850219576785,\n",
       " 202.20974628341568,\n",
       " 209.2106700342087,\n",
       " 205.8388199394124,\n",
       " 209.51019371362113,\n",
       " 210.06318768486724,\n",
       " 212.72282627868597,\n",
       " 174.35065423339512,\n",
       " 243.06679041967084,\n",
       " 229.1317936771008,\n",
       " 220.35042942304463,\n",
       " 219.24383784649746,\n",
       " 190.04230233779336,\n",
       " 193.62949214777294,\n",
       " 211.64025558827208,\n",
       " 212.51970809346665,\n",
       " 224.5252845655896,\n",
       " 214.18274855086327,\n",
       " 208.20769786648034,\n",
       " 202.8572439466741,\n",
       " 200.85891733311522,\n",
       " 233.0090920313826,\n",
       " 237.77618054182588,\n",
       " 196.44916426096327,\n",
       " 203.22105852241697,\n",
       " 224.3188812047892,\n",
       " 223.92327470593608,\n",
       " 198.01893266879014,\n",
       " 177.24690674275635,\n",
       " 207.21776999980904,\n",
       " 190.97018474987206,\n",
       " 228.4587468074887,\n",
       " 234.03646347618871,\n",
       " 234.25963276461914,\n",
       " 224.54620606336417,\n",
       " 187.4468054560105,\n",
       " 221.42610841570817,\n",
       " 199.65009796446276,\n",
       " 189.07666548407113,\n",
       " 224.08962030569856,\n",
       " 203.96900308251466,\n",
       " 214.71827700640108,\n",
       " 209.752449535486,\n",
       " 216.37713363735972,\n",
       " 207.36916881002762,\n",
       " 165.84094584634354,\n",
       " 179.73828544742568,\n",
       " 209.15903724720192,\n",
       " 209.17395884326575,\n",
       " 166.890636942478,\n",
       " 244.3104940018443,\n",
       " 214.43065313152218,\n",
       " 229.24235249685694,\n",
       " 222.08274685621555,\n",
       " 186.3503589257435,\n",
       " 216.0217151172561,\n",
       " 205.26964877684915,\n",
       " 188.63341549371017,\n",
       " 213.33491417799883,\n",
       " 197.8301368230282,\n",
       " 219.02638403327396,\n",
       " 191.97617369063778,\n",
       " 186.29734596048408,\n",
       " 193.39701394845454,\n",
       " 231.91925862670982,\n",
       " 220.76975684356836,\n",
       " 200.32378952485405,\n",
       " 233.2498907611032,\n",
       " 191.30158834374686,\n",
       " 196.9132563007345,\n",
       " 204.39886904555846,\n",
       " 197.5557472983981,\n",
       " 184.04333327560894,\n",
       " 234.06785490653297,\n",
       " 226.95213748078993,\n",
       " 217.0314759959937,\n",
       " 202.68432327745353,\n",
       " 206.7698743598923,\n",
       " 230.7295309717128,\n",
       " 190.11261783916413,\n",
       " 202.61288815239502,\n",
       " 196.93250502744894,\n",
       " 200.0474000566739,\n",
       " 224.20426492306817,\n",
       " 220.85533213028296,\n",
       " 208.88988157374433,\n",
       " 195.7399061275495,\n",
       " 186.74650193317515,\n",
       " 187.87269387152557,\n",
       " 158.27197296564952,\n",
       " 173.97107791770233,\n",
       " 197.28052559650155,\n",
       " 196.7030484319404,\n",
       " 188.59805222232296,\n",
       " 173.3519941177525,\n",
       " 200.07579648483915,\n",
       " 192.6698506231082,\n",
       " 224.8577133276192,\n",
       " 234.41558531799362,\n",
       " 224.40562995067322,\n",
       " 188.96929946291013,\n",
       " 196.45288482528335,\n",
       " 211.43334227803692,\n",
       " 186.4986273807597,\n",
       " 208.60234823854842,\n",
       " 222.82281643390456,\n",
       " 228.36055616957955,\n",
       " 219.601170417484,\n",
       " 235.74375930930148,\n",
       " 223.47006693265098,\n",
       " 195.5927840521162,\n",
       " 198.907170585153,\n",
       " 234.96938687251765,\n",
       " 234.34191477535958,\n",
       " 228.16794100792217,\n",
       " 206.59791622146437,\n",
       " 230.25235301755572,\n",
       " 236.3521008766609,\n",
       " 241.9455525137269,\n",
       " 186.65270046351873,\n",
       " 192.66111084094916,\n",
       " 227.7076990852123,\n",
       " 208.7879271958842,\n",
       " 227.67014260938214,\n",
       " 233.42917186516195,\n",
       " 190.56167806103423,\n",
       " 194.16752472405256,\n",
       " 185.96920321690172,\n",
       " 203.45029057687984,\n",
       " 226.78628964999544,\n",
       " 221.66621052187656,\n",
       " 200.8438254272743,\n",
       " 191.55962179260382,\n",
       " 200.52606986221852,\n",
       " 230.97784515595632,\n",
       " 237.40548307298081,\n",
       " 215.23717290681617,\n",
       " 220.65931108096265,\n",
       " 227.03000408987356,\n",
       " 226.35218332695194,\n",
       " 221.1443244793621,\n",
       " 218.66308545422888,\n",
       " 222.02288660047026,\n",
       " 230.5510570694537,\n",
       " 224.29651176015273,\n",
       " 207.69900183277383,\n",
       " 218.44550093656497,\n",
       " 213.145191574976,\n",
       " 202.91647735683617,\n",
       " 171.22828777837995,\n",
       " 202.07633989398346,\n",
       " 216.81438893198046,\n",
       " 203.98962797648497,\n",
       " 216.63155487085643,\n",
       " 215.12645653529717,\n",
       " 216.80052263617608,\n",
       " 222.2008660906883,\n",
       " 229.75796681264546,\n",
       " 225.63560388447294]"
      ]
     },
     "execution_count": 37,
     "metadata": {},
     "output_type": "execute_result"
    }
   ],
   "source": [
    "all_scores[0]"
   ]
  },
  {
   "cell_type": "code",
   "execution_count": null,
   "id": "3dad12c6",
   "metadata": {},
   "outputs": [],
   "source": []
  },
  {
   "cell_type": "code",
   "execution_count": null,
   "id": "75d71a9e",
   "metadata": {},
   "outputs": [],
   "source": [
    "SNR, acc\n",
    "15, 73.75\n",
    "5, 70.3125\n",
    "1, 63.125"
   ]
  },
  {
   "cell_type": "code",
   "execution_count": null,
   "id": "308a4181",
   "metadata": {},
   "outputs": [],
   "source": []
  },
  {
   "cell_type": "markdown",
   "id": "f7b24034",
   "metadata": {},
   "source": [
    "### noise removal"
   ]
  },
  {
   "cell_type": "code",
   "execution_count": 38,
   "id": "6dd2b2a9",
   "metadata": {},
   "outputs": [],
   "source": []
  },
  {
   "cell_type": "code",
   "execution_count": 46,
   "id": "f3b8f01b",
   "metadata": {},
   "outputs": [],
   "source": [
    "import noisereduce as nr"
   ]
  },
  {
   "cell_type": "code",
   "execution_count": null,
   "id": "7ca585fa",
   "metadata": {},
   "outputs": [],
   "source": []
  },
  {
   "cell_type": "code",
   "execution_count": 60,
   "id": "bfd16198",
   "metadata": {},
   "outputs": [
    {
     "name": "stderr",
     "output_type": "stream",
     "text": [
      "100%|████████████████████████████████████████████████████████████████████████████████| 330/330 [05:49<00:00,  1.06s/it]\n"
     ]
    }
   ],
   "source": [
    "SNR=15\n",
    "noise_gen_path = '../../dataset3/archive/musicnet/custom_generated_musicnet_SNR_{}/'.format(SNR)\n",
    "nr_path = '../../dataset3/archive/musicnet/custom_generated_musicnet_SNR_{}_nRed/'.format(SNR)\n",
    "if not os.path.exists(nr_path):\n",
    "    os.mkdir(nr_path)\n",
    "\n",
    "noise_files = os.listdir(noise_gen_path)\n",
    "for nfile in tqdm(noise_files):\n",
    "    file_path = noise_gen_path+nfile\n",
    "    y, sr = librosa.load(file_path, sr=sr)\n",
    "    reduced_noise_audio = nr.reduce_noise(y=y, sr=5000, time_mask_smooth_ms=52)\n",
    "    sf.write(nr_path+nfile[:-4]+'nr'+nfile[-4:], reduced_noise_audio, 5000, subtype='PCM_24')"
   ]
  },
  {
   "cell_type": "code",
   "execution_count": null,
   "id": "34731b7d",
   "metadata": {},
   "outputs": [],
   "source": []
  },
  {
   "cell_type": "markdown",
   "id": "81360476",
   "metadata": {},
   "source": [
    "### test accuracy"
   ]
  },
  {
   "cell_type": "code",
   "execution_count": 61,
   "id": "e2c72a21",
   "metadata": {},
   "outputs": [
    {
     "name": "stderr",
     "output_type": "stream",
     "text": [
      "100%|█████████████████████████████████████████████████████████████████████████████| 330/330 [00:00<00:00, 79223.87it/s]\n"
     ]
    }
   ],
   "source": [
    "sr = 5000\n",
    "gen_path = nr_path\n",
    "og_path = \"../../dataset3/archive/musicnet/musicnet/train_data/\"\n",
    "\n",
    "# where train files chromagrams will be saved, to be loaded and used during inference\n",
    "chroma_path = \"../../chromagrams/30sec_sr{0}_numpy_files/\".format(sr)\n",
    "if not os.path.exists(chroma_path):\n",
    "    os.mkdir(chroma_path)\n",
    "\n",
    "file_pairs = []\n",
    "no_pairs = []\n",
    "multiple_pairs = []\n",
    "\n",
    "og_files = os.listdir(og_path)\n",
    "\n",
    "\n",
    "for file in tqdm(os.listdir(gen_path)):\n",
    "    file_num = file.split('_')[0]\n",
    "    topair = [f for f in og_files if file_num in f]\n",
    "    if len(topair)==0:\n",
    "        no_pairs.append(file)\n",
    "        continue\n",
    "    elif len(topair)>1:\n",
    "        multiple_pairs.append([file,topair])\n",
    "        continue\n",
    "    topair = topair[0]\n",
    "    file_pairs.append([topair, file])\n",
    "file_pairs = np.array(file_pairs)"
   ]
  },
  {
   "cell_type": "code",
   "execution_count": 62,
   "id": "fbb85bf8",
   "metadata": {
    "scrolled": true
   },
   "outputs": [
    {
     "name": "stderr",
     "output_type": "stream",
     "text": [
      "100%|█████████████████████████████████████████████████████████████████████████████| 320/320 [00:00<00:00, 22831.19it/s]\n"
     ]
    }
   ],
   "source": [
    "# save chromagrams\n",
    "\n",
    "og_files = file_pairs[:,0]\n",
    "for ogf in tqdm(og_files):\n",
    "    if os.path.exists(chroma_path+ogf[:-3]+'npy'):\n",
    "        continue\n",
    "    # saving 30 seconds chromagrams of all train files with sampling rate 10k\n",
    "    # change accordingly\n",
    "    chromagram = fetch_chromagram(og_path+ogf, sr=sr, end_time=30)\n",
    "    np.save(chroma_path+ogf[:-3]+'npy', chromagram)"
   ]
  },
  {
   "cell_type": "code",
   "execution_count": 63,
   "id": "2b5d22fb",
   "metadata": {},
   "outputs": [
    {
     "name": "stderr",
     "output_type": "stream",
     "text": [
      "100%|████████████████████████████████████████████████████████████████████████████████| 320/320 [05:39<00:00,  1.06s/it]\n"
     ]
    }
   ],
   "source": [
    "chroma_files = os.listdir(chroma_path)\n",
    "\n",
    "# each element in final_maps contains [original file, generated midi/test file, closest match file]\n",
    "final_maps = []\n",
    "all_scores = []\n",
    "\n",
    "for og_file, gen_file in tqdm(file_pairs):\n",
    "    # load test file chromagram\n",
    "    chromagram1 = fetch_chromagram(gen_path+gen_file, sr=sr, end_time=30)\n",
    "    scores = []\n",
    "    for chroma_file in chroma_files:\n",
    "        # fetch each train file chromagram\n",
    "        chromagram2 = np.load(chroma_path+chroma_file)\n",
    "        \n",
    "#         score = method1(chromagram1, chromagram2)\n",
    "        score = method2(chromagram1, chromagram2)\n",
    "        \n",
    "        scores.append(score)\n",
    "        \n",
    "        \n",
    "    matched_file = chroma_files[np.argmin(scores)]    # argmin in case of cost, argmax in case of similarity\n",
    "#     matched_file = chroma_files[np.argmax(scores)]    # argmin in case of cost, argmax in case of similarity\n",
    "    \n",
    "    # each element in final_maps contains [original file, generated midi/test file, closest match file]\n",
    "    final_maps.append([og_file, gen_file, matched_file])\n",
    "    \n",
    "    all_scores.append(scores)\n",
    "    \n",
    "    \n",
    "#     break    # test for one test file print final_maps to check, remove break later"
   ]
  },
  {
   "cell_type": "code",
   "execution_count": 64,
   "id": "f15c1958",
   "metadata": {},
   "outputs": [],
   "source": [
    "np.save('./all_scores_librosa_sr_{}_SNR_{}_nRed.npy'.format(sr, SNR), all_scores)"
   ]
  },
  {
   "cell_type": "markdown",
   "id": "0d2456f7",
   "metadata": {},
   "source": [
    "##### accuracy"
   ]
  },
  {
   "cell_type": "code",
   "execution_count": 65,
   "id": "ff7346e3",
   "metadata": {},
   "outputs": [
    {
     "data": {
      "text/plain": [
       "77.5"
      ]
     },
     "execution_count": 65,
     "metadata": {},
     "output_type": "execute_result"
    }
   ],
   "source": [
    "accuracy = 0\n",
    "for i in final_maps:\n",
    "    ground_truth = i[0][:-3]\n",
    "    closest_match = i[2][:-3]\n",
    "    accuracy += ground_truth==closest_match\n",
    "accuracy = accuracy/len(final_maps)\n",
    "accuracy*100"
   ]
  },
  {
   "cell_type": "code",
   "execution_count": null,
   "id": "ff157bd6",
   "metadata": {},
   "outputs": [],
   "source": [
    "with nRed:\n",
    "SNR, acc\n",
    "15, 77.5??\n",
    "5, 75.0\n",
    "1, 70.9375"
   ]
  },
  {
   "cell_type": "code",
   "execution_count": 71,
   "id": "696c0e09",
   "metadata": {},
   "outputs": [
    {
     "data": {
      "text/plain": [
       "Text(0.5, 1.0, 'Accuracies for different SNR with Sampling Rate 5kHz')"
      ]
     },
     "execution_count": 71,
     "metadata": {},
     "output_type": "execute_result"
    },
    {
     "data": {
      "image/png": "[encoded data removed]",
      "text/plain": [
       "<Figure size 640x480 with 1 Axes>"
      ]
     },
     "metadata": {},
     "output_type": "display_data"
    }
   ],
   "source": [
    "x_snr = [1, 5, 15]\n",
    "y = [63.125, 70.3125, 73.75]\n",
    "plt.plot(x_snr,y, '.')\n",
    "plt.plot(x_snr,y, label='noise added')\n",
    "plt.axhline(75, color='red', label='No noise added')\n",
    "plt.xlabel(\"SNR\")\n",
    "plt.ylabel(\"Accuracy\")\n",
    "plt.ylim(0,100)\n",
    "plt.legend()\n",
    "plt.title('Accuracies for different SNR with Sampling Rate 5kHz')"
   ]
  },
  {
   "cell_type": "markdown",
   "id": "084e577f",
   "metadata": {},
   "source": [
    "#### Explain spectral gating"
   ]
  },
  {
   "cell_type": "code",
   "execution_count": 76,
   "id": "9b7fb4a6",
   "metadata": {},
   "outputs": [
    {
     "data": {
      "text/plain": [
       "Text(0.5, 1.0, 'Accuracies for different SNR with Sampling Rate 5kHz')"
      ]
     },
     "execution_count": 76,
     "metadata": {},
     "output_type": "execute_result"
    },
    {
     "data": {
      "image/png": "[encoded data removed]",
      "text/plain": [
       "<Figure size 640x480 with 1 Axes>"
      ]
     },
     "metadata": {},
     "output_type": "display_data"
    }
   ],
   "source": [
    "plt.axhline(75, color='red', label='No noise added')\n",
    "\n",
    "x_snr = [1, 5, 15]\n",
    "y_snr = [63.125, 70.3125, 73.75]\n",
    "plt.plot(x_snr,y_snr, '.')\n",
    "plt.plot(x_snr,y_snr, label='noise added')\n",
    "\n",
    "x_nr = [1, 5, 15]\n",
    "y_nr = [70.9375, 75.0, 77.5]\n",
    "plt.plot(x_nr,y_nr, '.')\n",
    "plt.plot(x_nr,y_nr, color='green', label='noise reduction with spectral gating')\n",
    "\n",
    "plt.xlabel(\"SNR\")\n",
    "plt.ylabel(\"Accuracy\")\n",
    "plt.ylim(0,100)\n",
    "plt.legend()\n",
    "plt.title('Accuracies for different SNR with Sampling Rate 5kHz')"
   ]
  },
  {
   "cell_type": "code",
   "execution_count": null,
   "id": "f494d331",
   "metadata": {},
   "outputs": [],
   "source": []
  },
  {
   "cell_type": "code",
   "execution_count": null,
   "id": "b514994c",
   "metadata": {},
   "outputs": [],
   "source": []
  }
 ],
 "metadata": {
  "kernelspec": {
   "display_name": "Python 3 (ipykernel)",
   "language": "python",
   "name": "python3"
  },
  "language_info": {
   "codemirror_mode": {
    "name": "ipython",
    "version": 3
   },
   "file_extension": ".py",
   "mimetype": "text/x-python",
   "name": "python",
   "nbconvert_exporter": "python",
   "pygments_lexer": "ipython3",
   "version": "3.9.13"
  }
 },
 "nbformat": 4,
 "nbformat_minor": 5
}
